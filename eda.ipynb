{
 "cells": [
  {
   "cell_type": "markdown",
   "metadata": {},
   "source": [
    "Document: [PySpark API](https://spark.apache.org/docs/latest/api/python/index.html)"
   ]
  },
  {
   "cell_type": "code",
   "execution_count": null,
   "metadata": {
    "collapsed": true
   },
   "outputs": [],
   "source": [
    "%matplotlib inline"
   ]
  },
  {
   "cell_type": "code",
   "execution_count": null,
   "metadata": {
    "collapsed": true
   },
   "outputs": [],
   "source": [
    "from pyspark.sql.functions import col\n",
    "from pyspark.sql.functions import explode\n",
    "from pyspark.ml.feature import StringIndexer\n",
    "from pyspark.ml.feature import IndexToString\n",
    "from pyspark.ml.feature import VectorAssembler\n",
    "from pyspark.ml.classification import RandomForestClassifier\n",
    "from pyspark.ml.classification import DecisionTreeClassifier\n",
    "from pyspark.ml.classification import MultilayerPerceptronClassifier\n",
    "from pyspark.ml.classification import LogisticRegression\n",
    "from pyspark.ml.classification import OneVsRest\n",
    "from pyspark.ml import Pipeline\n",
    "from pyspark.ml.evaluation import MulticlassClassificationEvaluator\n"
   ]
  },
  {
   "cell_type": "markdown",
   "metadata": {},
   "source": [
    "## Load Data from PIO"
   ]
  },
  {
   "cell_type": "code",
   "execution_count": null,
   "metadata": {
    "collapsed": true
   },
   "outputs": [],
   "source": [
    "event_df = p_event_store.find('IrisApp')"
   ]
  },
  {
   "cell_type": "code",
   "execution_count": null,
   "metadata": {
    "collapsed": true
   },
   "outputs": [],
   "source": [
    "event_df.show(5)"
   ]
  },
  {
   "cell_type": "code",
   "execution_count": null,
   "metadata": {
    "collapsed": true
   },
   "outputs": [],
   "source": [
    "def get_field_type(name):\n",
    "    if name.startswith('attr'):\n",
    "        return 'double'\n",
    "    else:\n",
    "        return 'string'\n",
    "\n",
    "field_names = (event_df\n",
    "            .select(explode(\"fields\"))\n",
    "            .select(\"key\")\n",
    "            .distinct()\n",
    "            .rdd.flatMap(lambda x: x)\n",
    "            .collect())\n",
    "field_names.sort()\n",
    "exprs = [col(\"fields\").getItem(k).cast(get_field_type(k)).alias(k) for k in field_names]\n",
    "data_df = event_df.select(*exprs)"
   ]
  },
  {
   "cell_type": "code",
   "execution_count": null,
   "metadata": {
    "collapsed": true
   },
   "outputs": [],
   "source": [
    "data_df.show(5)"
   ]
  },
  {
   "cell_type": "markdown",
   "metadata": {},
   "source": [
    "## Pandas"
   ]
  },
  {
   "cell_type": "code",
   "execution_count": null,
   "metadata": {
    "collapsed": true
   },
   "outputs": [],
   "source": [
    "p_data_df = data_df.toPandas()"
   ]
  },
  {
   "cell_type": "code",
   "execution_count": null,
   "metadata": {
    "collapsed": true
   },
   "outputs": [],
   "source": [
    "import matplotlib.pyplot as plt\n",
    "from pandas.plotting import scatter_matrix\n",
    "scatter_matrix(p_data_df, diagonal='kde', color='k', alpha=0.3)\n",
    "\n",
    "plt.show()"
   ]
  },
  {
   "cell_type": "markdown",
   "metadata": {},
   "source": [
    "## Train and Test"
   ]
  },
  {
   "cell_type": "code",
   "execution_count": null,
   "metadata": {
    "collapsed": true
   },
   "outputs": [],
   "source": [
    "(train_df, test_df) = data_df.randomSplit([0.9, 0.1])\n"
   ]
  },
  {
   "cell_type": "code",
   "execution_count": null,
   "metadata": {
    "collapsed": true
   },
   "outputs": [],
   "source": [
    "labelIndexer = StringIndexer(inputCol=\"target\", outputCol=\"label\").fit(train_df)\n",
    "\n",
    "featureAssembler = VectorAssembler(inputCols=[x for x in field_names if x.startswith('attr')],\n",
    "                                   outputCol=\"features\")\n",
    "clf = RandomForestClassifier(featuresCol=\"features\", labelCol=\"label\", predictionCol=\"prediction\",\n",
    "                             probabilityCol=\"probability\", rawPredictionCol=\"rawPrediction\",\n",
    "                             maxDepth=5, maxBins=32, minInstancesPerNode=1, minInfoGain=0.0,\n",
    "                             maxMemoryInMB=256, cacheNodeIds=False, checkpointInterval=10,\n",
    "                             impurity=\"gini\", numTrees=20, featureSubsetStrategy=\"auto\",\n",
    "                             seed=None, subsamplingRate=1.0)\n",
    "# clf = DecisionTreeClassifier(featuresCol=\"features\", labelCol=\"label\", predictionCol=\"prediction\",\n",
    "#                              probabilityCol=\"probability\", rawPredictionCol=\"rawPrediction\",\n",
    "#                              maxDepth=5, maxBins=32, minInstancesPerNode=1, minInfoGain=0.0,\n",
    "#                              maxMemoryInMB=256, cacheNodeIds=False, checkpointInterval=10,\n",
    "#                              impurity=\"gini\", seed=None)\n",
    "# TODO MultilayerPerceptronClassifier is NPE...\n",
    "# clf = MultilayerPerceptronClassifier(featuresCol=\"features\", labelCol=\"label\",\n",
    "#                                      predictionCol=\"prediction\", maxIter=100, tol=1e-6, seed=None,\n",
    "#                                      layers=None, blockSize=128, stepSize=0.03, solver=\"l-bfgs\",\n",
    "#                                      initialWeights=None)\n",
    "# TODO NPE...\n",
    "# lr = LogisticRegression(featuresCol=\"features\", labelCol=\"label\", predictionCol=\"prediction\",\n",
    "#                         maxIter=100, regParam=0.0, elasticNetParam=0.0, tol=1e-6, fitIntercept=True,\n",
    "#                         threshold=0.5, probabilityCol=\"probability\", # thresholds=None,\n",
    "#                         rawPredictionCol=\"rawPrediction\", standardization=True, weightCol=None,\n",
    "#                         aggregationDepth=2, family=\"auto\")\n",
    "# lr = LogisticRegression()\n",
    "# clf = OneVsRest(classifier=lr)\n",
    "labelConverter = IndexToString(inputCol=\"prediction\", outputCol=\"predictedLabel\",\n",
    "                               labels=labelIndexer.labels)\n",
    "pipeline = Pipeline(stages=[featureAssembler, labelIndexer, clf, labelConverter])\n"
   ]
  },
  {
   "cell_type": "code",
   "execution_count": null,
   "metadata": {
    "collapsed": true
   },
   "outputs": [],
   "source": [
    "model = pipeline.fit(train_df)\n"
   ]
  },
  {
   "cell_type": "code",
   "execution_count": null,
   "metadata": {
    "collapsed": true
   },
   "outputs": [],
   "source": [
    "predict_df = model.transform(test_df)\n"
   ]
  },
  {
   "cell_type": "code",
   "execution_count": null,
   "metadata": {
    "collapsed": true
   },
   "outputs": [],
   "source": [
    "predict_df.select(\"predictedLabel\", \"target\", \"features\").show(5)\n"
   ]
  },
  {
   "cell_type": "code",
   "execution_count": null,
   "metadata": {
    "collapsed": true
   },
   "outputs": [],
   "source": [
    "evaluator = MulticlassClassificationEvaluator(\n",
    "    labelCol=\"label\", predictionCol=\"prediction\", metricName=\"accuracy\")\n",
    "accuracy = evaluator.evaluate(predict_df)\n",
    "print(\"Test Error = %g\" % (1.0 - accuracy))\n"
   ]
  },
  {
   "cell_type": "code",
   "execution_count": null,
   "metadata": {
    "collapsed": true
   },
   "outputs": [],
   "source": []
  }
 ],
 "metadata": {
  "kernelspec": {
   "display_name": "Python 3",
   "language": "python",
   "name": "python3"
  },
  "language_info": {
   "codemirror_mode": {
    "name": "ipython",
    "version": 3
   },
   "file_extension": ".py",
   "mimetype": "text/x-python",
   "name": "python",
   "nbconvert_exporter": "python",
   "pygments_lexer": "ipython3",
   "version": "3.6.1"
  }
 },
 "nbformat": 4,
 "nbformat_minor": 2
}
